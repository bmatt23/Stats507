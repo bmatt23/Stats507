{
 "cells": [
  {
   "cell_type": "markdown",
   "metadata": {},
   "source": [
    "# Question 0 - Markdown warmup [10 points]"
   ]
  },
  {
   "cell_type": "markdown",
   "metadata": {},
   "source": [
    "This is *question 0* for [problem set 1](https://jbhender.github.io/Stats507/F21/ps1.html) of [Stats 507](https://jbhender.github.io/Stats507/F21/)"
   ]
  },
  {
   "cell_type": "markdown",
   "metadata": {},
   "source": [
    "> Question 0 is about Markdown"
   ]
  },
  {
   "cell_type": "markdown",
   "metadata": {},
   "source": [
    "The next question is about the **Fibonnaci sequence**, F<sub>n</sub> = F<sub>n-2</sub> + F<sub>n-1</sub>. In part **a** we will define a Python function <mark style=\"background-color:rgba(0, 0, 0, 0.0470588)\">fib_rec( )</mark>."
   ]
  },
  {
   "cell_type": "markdown",
   "metadata": {},
   "source": [
    "Below is a …"
   ]
  },
  {
   "cell_type": "markdown",
   "metadata": {},
   "source": [
    "### Level 3 Header"
   ]
  },
  {
   "cell_type": "markdown",
   "metadata": {},
   "source": [
    "Next, we can make a bulleted list:"
   ]
  },
  {
   "cell_type": "markdown",
   "metadata": {},
   "source": [
    " * Item 1\n",
    "    \n",
    "    * detail 1\n",
    "    * detail 2\n",
    " * Item 2"
   ]
  },
  {
   "cell_type": "markdown",
   "metadata": {},
   "source": [
    "Finally, we can make an enumerated list:"
   ]
  },
  {
   "cell_type": "markdown",
   "metadata": {},
   "source": [
    "    a. Item 1\n",
    "    b. Item 2\n",
    "    c. Item 3"
   ]
  },
  {
   "cell_type": "markdown",
   "metadata": {},
   "source": [
    "# Question 1 - Fibonnaci Sequence [30]"
   ]
  },
  {
   "cell_type": "markdown",
   "metadata": {},
   "source": [
    "a. Write a *recursive* function <mark style=\"background-color:rgba(0, 0, 0, 0.0470588)\">fib_rec( )</mark> that takes a single input n and returns the value of F<sub>n</sub>."
   ]
  },
  {
   "cell_type": "code",
   "execution_count": 6,
   "metadata": {},
   "outputs": [],
   "source": [
    "def fib_rec(n):\n",
    "    \n",
    "    \"\"\"\n",
    "Returns the Fibonnaci value of index n using recursion. \n",
    "\n",
    "Parameters\n",
    "----------\n",
    "x : Fibbonaci index.\n",
    "\n",
    " Returns\n",
    " -------\n",
    " Fibonnaci value for that index.\n",
    "     \"\"\"\n",
    "    if n <= 1:\n",
    "        return n \n",
    "\n",
    "    else:\n",
    "        return fib_rec(n-1)+ fib_rec(n-2)\n"
   ]
  },
  {
   "cell_type": "code",
   "execution_count": 7,
   "metadata": {},
   "outputs": [
    {
     "name": "stdout",
     "output_type": "stream",
     "text": [
      "13\n",
      "89\n",
      "233\n"
     ]
    }
   ],
   "source": [
    "print(fib_rec(7))\n",
    "print(fib_rec(11))\n",
    "print(fib_rec(13))"
   ]
  },
  {
   "cell_type": "markdown",
   "metadata": {},
   "source": [
    "b. Write a function <mark style=\"background-color:rgba(0, 0, 0, 0.0470588)\">fib_for( )</mark> with the same signature that computes F<sub>n</sub> by summation using a <mark style=\"background-color:rgba(0, 0, 0, 0.0470588)\">for</mark> loop."
   ]
  },
  {
   "cell_type": "code",
   "execution_count": 8,
   "metadata": {},
   "outputs": [],
   "source": [
    "def fib_for(n):\n",
    "    \n",
    "    \"\"\"\n",
    "Returns the Fibonnaci value of index n using a for loop. \n",
    "\n",
    "Parameters\n",
    "----------\n",
    "x : Fibbonaci index.\n",
    "\n",
    " Returns\n",
    " -------\n",
    " Fibonnaci value for that index.\n",
    "     \"\"\"\n",
    "    \n",
    "    \n",
    "    \n",
    "    first = 0\n",
    "    second = 1\n",
    "    \n",
    "    if n == 0:\n",
    "        return first\n",
    "    if n == 1: \n",
    "        return second\n",
    "    \n",
    "    for i in range(1,n):\n",
    "        fib_n = first + second\n",
    "        first = second\n",
    "        second = fib_n\n",
    "    return fib_n"
   ]
  },
  {
   "cell_type": "code",
   "execution_count": 9,
   "metadata": {},
   "outputs": [
    {
     "name": "stdout",
     "output_type": "stream",
     "text": [
      "13\n",
      "89\n",
      "233\n"
     ]
    }
   ],
   "source": [
    "print(fib_for(7))\n",
    "print(fib_for(11))\n",
    "print(fib_for(13))"
   ]
  },
  {
   "cell_type": "markdown",
   "metadata": {},
   "source": [
    "c. Write a function <mark style=\"background-color:rgba(0, 0, 0, 0.0470588)\">fib_whl( )</mark> with the same signature that computes F<sub>n</sub> by summation using a <mark style=\"background-color:rgba(0, 0, 0, 0.0470588)\">while</mark> loop."
   ]
  },
  {
   "cell_type": "code",
   "execution_count": 10,
   "metadata": {},
   "outputs": [],
   "source": [
    "def fib_whl(n):\n",
    "    \n",
    "    \"\"\"\n",
    "Returns the Fibonnaci value of index n using a while loop. \n",
    "\n",
    "Parameters\n",
    "----------\n",
    "x : Fibbonaci index.\n",
    "\n",
    " Returns\n",
    " -------\n",
    " Fibonnaci value for that index.\n",
    "     \"\"\"\n",
    "    first = 0\n",
    "    second = 1\n",
    "    i=0\n",
    "    \n",
    "    if n == 0:\n",
    "        return 0\n",
    "    if n == 1: \n",
    "        return 1\n",
    "    \n",
    "    while i <= n-2:\n",
    "        fib_n = first + second\n",
    "        first = second\n",
    "        second = fib_n\n",
    "        i+=1\n",
    "    return fib_n"
   ]
  },
  {
   "cell_type": "code",
   "execution_count": 11,
   "metadata": {},
   "outputs": [
    {
     "name": "stdout",
     "output_type": "stream",
     "text": [
      "13\n",
      "89\n",
      "233\n"
     ]
    }
   ],
   "source": [
    "print(fib_whl(7))\n",
    "print(fib_whl(11))\n",
    "print(fib_whl(13))"
   ]
  },
  {
   "cell_type": "markdown",
   "metadata": {},
   "source": [
    "d. Write a function <mark style=\"background-color:rgba(0, 0, 0, 0.0470588)\">fib_rnd( )</mark> with the same signature that computes F<sub>n</sub> by summation using the rounding method described on the [Wikipedia page](https://en.wikipedia.org/wiki/Fibonacci_number) linked above. "
   ]
  },
  {
   "cell_type": "code",
   "execution_count": 12,
   "metadata": {},
   "outputs": [],
   "source": [
    "import numpy as np\n",
    "def fib_rnd(n):\n",
    "    \n",
    "    \"\"\"\n",
    "Returns the Fibonnaci value of index n using the rounding method. \n",
    "\n",
    "Parameters\n",
    "----------\n",
    "x : Fibbonaci index.\n",
    "\n",
    " Returns\n",
    " -------\n",
    " Fibonnaci value for that index.\n",
    "     \"\"\"\n",
    "    \n",
    "    phi = (1+np.sqrt(5))/2\n",
    "    \n",
    "    fib_n = round((phi**n)/np.sqrt(5),ndigits = None)\n",
    "    \n",
    "    return fib_n"
   ]
  },
  {
   "cell_type": "code",
   "execution_count": 13,
   "metadata": {},
   "outputs": [
    {
     "name": "stdout",
     "output_type": "stream",
     "text": [
      "13\n",
      "89\n",
      "233\n"
     ]
    }
   ],
   "source": [
    "print(fib_rnd(7))\n",
    "print(fib_rnd(11))\n",
    "print(fib_rnd(13))"
   ]
  },
  {
   "cell_type": "markdown",
   "metadata": {},
   "source": [
    "e. Write a function <mark style=\"background-color:rgba(0, 0, 0, 0.0470588)\">fib_flr( )</mark> with the same signature that computes F<sub>n</sub> by summation using the truncation method described on the [Wikipedia page](https://en.wikipedia.org/wiki/Fibonacci_number) linked above. "
   ]
  },
  {
   "cell_type": "code",
   "execution_count": 14,
   "metadata": {},
   "outputs": [],
   "source": [
    "def fib_flr(n):\n",
    "    \n",
    "    \"\"\"\n",
    "Returns the Fibonnaci value of index n using the truncation method. \n",
    "\n",
    "Parameters\n",
    "----------\n",
    "x : Fibbonaci index.\n",
    "\n",
    " Returns\n",
    " -------\n",
    " Fibonnaci value for that index.\n",
    "     \"\"\"\n",
    "    \n",
    "    phi = (1+np.sqrt(5))/2\n",
    "    \n",
    "    fib_n = np.floor((phi**n)/np.sqrt(5) + 0.5)\n",
    "    \n",
    "    return fib_n"
   ]
  },
  {
   "cell_type": "code",
   "execution_count": 15,
   "metadata": {},
   "outputs": [
    {
     "name": "stdout",
     "output_type": "stream",
     "text": [
      "13.0\n",
      "89.0\n",
      "233.0\n"
     ]
    }
   ],
   "source": [
    "print(fib_flr(7))\n",
    "print(fib_flr(11))\n",
    "print(fib_flr(13))"
   ]
  },
  {
   "cell_type": "markdown",
   "metadata": {},
   "source": [
    "f. For a sequence of increasingly large values of <mark style=\"background-color:rgba(0, 0, 0, 0.0470588)\">n</mark> compare the median computation time of each of the functions above. Present your results in a nicely formatted table. (Point estimates are sufficient)."
   ]
  },
  {
   "cell_type": "code",
   "execution_count": 16,
   "metadata": {},
   "outputs": [
    {
     "data": {
      "text/html": [
       "<div>\n",
       "<style scoped>\n",
       "    .dataframe tbody tr th:only-of-type {\n",
       "        vertical-align: middle;\n",
       "    }\n",
       "\n",
       "    .dataframe tbody tr th {\n",
       "        vertical-align: top;\n",
       "    }\n",
       "\n",
       "    .dataframe thead th {\n",
       "        text-align: right;\n",
       "    }\n",
       "</style>\n",
       "<table border=\"1\" class=\"dataframe\">\n",
       "  <thead>\n",
       "    <tr style=\"text-align: right;\">\n",
       "      <th></th>\n",
       "      <th>N</th>\n",
       "      <th>Recursion</th>\n",
       "      <th>For Loop</th>\n",
       "      <th>While Loop</th>\n",
       "      <th>Rounding</th>\n",
       "      <th>Truncation</th>\n",
       "    </tr>\n",
       "  </thead>\n",
       "  <tbody>\n",
       "    <tr>\n",
       "      <th>0</th>\n",
       "      <td>0</td>\n",
       "      <td>1.000000e-06</td>\n",
       "      <td>1.000000e-06</td>\n",
       "      <td>0.000001</td>\n",
       "      <td>0.000006</td>\n",
       "      <td>0.000005</td>\n",
       "    </tr>\n",
       "    <tr>\n",
       "      <th>1</th>\n",
       "      <td>1</td>\n",
       "      <td>1.000000e-06</td>\n",
       "      <td>1.000000e-06</td>\n",
       "      <td>0.000002</td>\n",
       "      <td>0.000006</td>\n",
       "      <td>0.000005</td>\n",
       "    </tr>\n",
       "    <tr>\n",
       "      <th>2</th>\n",
       "      <td>2</td>\n",
       "      <td>1.000000e-06</td>\n",
       "      <td>1.000000e-06</td>\n",
       "      <td>0.000002</td>\n",
       "      <td>0.000005</td>\n",
       "      <td>0.000005</td>\n",
       "    </tr>\n",
       "    <tr>\n",
       "      <th>3</th>\n",
       "      <td>3</td>\n",
       "      <td>1.000000e-06</td>\n",
       "      <td>1.000000e-06</td>\n",
       "      <td>0.000001</td>\n",
       "      <td>0.000005</td>\n",
       "      <td>0.000005</td>\n",
       "    </tr>\n",
       "    <tr>\n",
       "      <th>4</th>\n",
       "      <td>4</td>\n",
       "      <td>2.000000e-06</td>\n",
       "      <td>1.000000e-06</td>\n",
       "      <td>0.000001</td>\n",
       "      <td>0.000005</td>\n",
       "      <td>0.000005</td>\n",
       "    </tr>\n",
       "    <tr>\n",
       "      <th>5</th>\n",
       "      <td>5</td>\n",
       "      <td>3.000000e-06</td>\n",
       "      <td>1.000000e-06</td>\n",
       "      <td>0.000001</td>\n",
       "      <td>0.000005</td>\n",
       "      <td>0.000005</td>\n",
       "    </tr>\n",
       "  </tbody>\n",
       "</table>\n",
       "</div>"
      ],
      "text/plain": [
       "   N     Recursion      For Loop  While Loop  Rounding  Truncation\n",
       "0  0  1.000000e-06  1.000000e-06    0.000001  0.000006    0.000005\n",
       "1  1  1.000000e-06  1.000000e-06    0.000002  0.000006    0.000005\n",
       "2  2  1.000000e-06  1.000000e-06    0.000002  0.000005    0.000005\n",
       "3  3  1.000000e-06  1.000000e-06    0.000001  0.000005    0.000005\n",
       "4  4  2.000000e-06  1.000000e-06    0.000001  0.000005    0.000005\n",
       "5  5  3.000000e-06  1.000000e-06    0.000001  0.000005    0.000005"
      ]
     },
     "execution_count": 16,
     "metadata": {},
     "output_type": "execute_result"
    }
   ],
   "source": [
    "import time\n",
    "import pandas as pd\n",
    "def time_helper(func,list_name,n):\n",
    "    \"\"\"\n",
    "Helper function to run the function and add median time to lists. \n",
    "\n",
    "Parameters\n",
    "----------\n",
    "func : the function to be run\n",
    "list_name : the list to append to \n",
    "n : Fibbonaci index.\n",
    "\n",
    " Returns\n",
    " -------\n",
    " Median time for each fibonacci calculation up to that index\n",
    " \"\"\"\n",
    "\n",
    "    for i in range(n):\n",
    "        temp_list=[]\n",
    "        for j in range(100):\n",
    "            start = time.process_time()\n",
    "            func(i)\n",
    "            end = time.process_time()\n",
    "            temp_list.append(end-start)\n",
    "        list_name.append(np.median(temp_list))\n",
    "    return list_name\n",
    "\n",
    "\n",
    "\n",
    "\n",
    "\n",
    "def median_time(n):\n",
    "    \"\"\"\n",
    "Returns the median time for each function to run, for n increasingly large Fibonacci indices. \n",
    "\n",
    "Parameters\n",
    "----------\n",
    "n : Fibbonaci index.\n",
    "\n",
    " Returns\n",
    " -------\n",
    " Median time for each fibonacci calculation up to that index\n",
    " \"\"\"\n",
    "    recursion_list = []\n",
    "    time_helper(fib_rec,recursion_list,n+1)\n",
    "    \n",
    "    forloop_list = []\n",
    "    time_helper(fib_for,forloop_list,n+1)\n",
    "    \n",
    "    whileloop_list = []\n",
    "    time_helper(fib_whl,whileloop_list,n+1)\n",
    "    \n",
    "    round_list = []\n",
    "    time_helper(fib_rnd,round_list,n+1)\n",
    "    \n",
    "    trunc_list = []\n",
    "    time_helper(fib_flr,trunc_list,n+1)\n",
    "    \n",
    "    time_df = pd.DataFrame()\n",
    "\n",
    "    index_list = list(range(n+1))\n",
    "\n",
    "    time_df['N'] = index_list\n",
    "    time_df['Recursion'] = recursion_list\n",
    "    time_df['For Loop'] = forloop_list\n",
    "    time_df['While Loop'] = whileloop_list\n",
    "    time_df['Rounding'] = round_list\n",
    "    time_df['Truncation'] = trunc_list\n",
    "    \n",
    "    return time_df\n",
    "\n",
    "    \n",
    "median_time(5)\n",
    "    \n",
    "    \n",
    "    \n",
    "    \n",
    "    "
   ]
  },
  {
   "cell_type": "markdown",
   "metadata": {},
   "source": [
    "# Question 2 - Pascal's Triangle [20]"
   ]
  },
  {
   "cell_type": "markdown",
   "metadata": {},
   "source": [
    "a. Write a function to compute a specified row of Pascal’s triangle."
   ]
  },
  {
   "cell_type": "code",
   "execution_count": 17,
   "metadata": {},
   "outputs": [],
   "source": [
    "def choose_rec(n,k):\n",
    "    \"\"\"\n",
    "Returns the nth row and kth term in Pascal's triangle\n",
    "\n",
    "Parameters:\n",
    "n: row\n",
    "k: kth term in the row\n",
    "\"\"\"\n",
    "\n",
    "    if k == 0:\n",
    "        return 1\n",
    "    else:\n",
    "        return int(((choose_rec(n,k-1) * (n+1-k)/k)))\n",
    "    \n"
   ]
  },
  {
   "cell_type": "code",
   "execution_count": 18,
   "metadata": {},
   "outputs": [],
   "source": [
    "def compute_row (n):\n",
    "    \"\"\"\n",
    "Computes the nth row of Pascal's Triangle\n",
    "\n",
    "Parameters:\n",
    "n: the row we are trying to compute\n",
    "\"\"\"\n",
    "    row = []\n",
    "    for i in range(n+1):\n",
    "        row.append(str(choose_rec(n,i)))\n",
    "    return ' '.join(row)\n",
    "\n"
   ]
  },
  {
   "cell_type": "markdown",
   "metadata": {},
   "source": [
    "b. Write a function for printing the first *n* rows of Pascal’s triangle using the conventional spacing with the numbers in each row staggered relative to adjacent rows. Use your function to display a minimum of 10 rows in your notebook."
   ]
  },
  {
   "cell_type": "code",
   "execution_count": 19,
   "metadata": {},
   "outputs": [
    {
     "name": "stdout",
     "output_type": "stream",
     "text": [
      "                 1                 \n",
      "                1 1                \n",
      "               1 2 1               \n",
      "              1 3 3 1              \n",
      "             1 4 6 4 1             \n",
      "           1 5 10 10 5 1           \n",
      "          1 6 15 20 15 6 1         \n",
      "        1 7 21 35 35 21 7 1        \n",
      "       1 8 28 56 70 56 28 8 1      \n",
      "    1 9 36 84 126 126 84 36 9 1    \n"
     ]
    }
   ],
   "source": [
    "def print_pascal (n):\n",
    "    \"\"\"\n",
    "prints through the nth row of Pascal's Triangle\n",
    "\n",
    "Parameters:\n",
    "n: the last row we are trying to print\n",
    "\"\"\"\n",
    "    #finding the length of the chracters in each row\n",
    "    row_length_list = []\n",
    "    for i in range(n+1):\n",
    "\n",
    "        row_length_list.append((compute_row(i)))\n",
    "    \n",
    "    # now we make up for the differences in characters with the center function\n",
    "    for k in range(n):\n",
    "        print(row_length_list[k].center(len(row_length_list[n])))\n",
    "\n",
    "print_pascal(10)"
   ]
  },
  {
   "cell_type": "markdown",
   "metadata": {},
   "source": [
    "# Question 3 - Statistics 101 [40]"
   ]
  },
  {
   "cell_type": "code",
   "execution_count": null,
   "metadata": {},
   "outputs": [],
   "source": []
  },
  {
   "cell_type": "markdown",
   "metadata": {},
   "source": [
    "a)  Write a function to return a point and interval estimate for the mean based on these statistics."
   ]
  },
  {
   "cell_type": "code",
   "execution_count": 20,
   "metadata": {},
   "outputs": [],
   "source": [
    "import numpy as np\n",
    "from scipy import stats\n",
    "import pandas as pd\n",
    "\n",
    "def normal_approx(array,z, str_format = 1):\n",
    "    \"\"\"\n",
    "Uses the normal approximation and finds the point \n",
    "estimates and confidence intervals\n",
    "\n",
    "Parameters\n",
    "----------\n",
    "array : Array of 0's and 1's\n",
    "Z : confidence level\n",
    "str_format : \n",
    "Type 1 for string formatted, Type None for the dictionary to return\n",
    "\n",
    "\n",
    " Returns\n",
    " -------\n",
    " Point estimate and confidence intervals\n",
    " \"\"\"\n",
    "    #create estimates\n",
    "    est = round(np.mean(array),2)\n",
    "    se = round(stats.sem(array),2)\n",
    "    level = round(stats.norm.ppf(z),2)\n",
    "\n",
    "    #compute bounds \n",
    "    lwr, upr = round(est - se * level,2),round(est + se * level,2)\n",
    "    \n",
    "    #create dictionary \n",
    "    value_dict = {\n",
    "        'est':est,\n",
    "        'level':level,\n",
    "        'lwr':lwr,\n",
    "        'upr':upr,\n",
    "    }\n",
    "\n",
    "    #choose a string format\n",
    "    if str_format == 1:\n",
    "        print('{}[{}%CI:({},{})]'.format(est,level,lwr,upr))\n",
    "    if str_format == None :\n",
    "        return value_dict\n",
    "\n"
   ]
  },
  {
   "cell_type": "markdown",
   "metadata": {},
   "source": [
    "b)\n",
    "   * The standard point and interval estimates for a population parameter based on the Normal approximation to the Binomial distribution"
   ]
  },
  {
   "cell_type": "code",
   "execution_count": 21,
   "metadata": {},
   "outputs": [],
   "source": [
    "def normal_binom(array,z, str_format = 1):\n",
    "    \"\"\"\n",
    "Uses the normal binomial approximation and finds the point \n",
    "estimates and confidence intervals\n",
    "\n",
    "Parameters\n",
    "----------\n",
    "array : Array of 0's and 1's\n",
    "Z : confidence level\n",
    "str_format : \n",
    "Type 1 for string formatted, Type None for the dictionary to return\n",
    "\n",
    "\n",
    " Returns\n",
    " -------\n",
    " Point estimate and confidence intervals\n",
    " \"\"\" \n",
    "    \n",
    "    #check for condition met\n",
    "    n = len(array)\n",
    "    p = np.mean(array)\n",
    "\n",
    "#     try:\n",
    "#         assert n*p >12 and n*(1-p)>12\n",
    "#     except:\n",
    "#         print('Inadequate approximation, check your array.')\n",
    "        \n",
    "    #calculate parameters\n",
    "    est = p\n",
    "    se = np.sqrt(p*(1-p)/n)\n",
    "    level = stats.norm.ppf(z)\n",
    "    lwr, upr = p - se * level,est + se * level\n",
    "    \n",
    "    #create list \n",
    "    values = [est,level,lwr,upr]\n",
    "    \n",
    "    #round whole list\n",
    "    values = [round(num, 3) for num in values]\n",
    "    \n",
    "    #re-establish variables\n",
    "    est = values[0]\n",
    "    level = values[1]\n",
    "    lwr = values[2]\n",
    "    upr = values[3]\n",
    "    \n",
    "    \n",
    "    #create dict\n",
    "    value_dict = {\n",
    "          'est': est,\n",
    "          'level': level,\n",
    "          'lwr': lwr,\n",
    "          'upr': upr ,\n",
    "      }  \n",
    "    \n",
    "    \n",
    "    # string output\n",
    "    if str_format == 1:\n",
    "        print('{}[{}%CI:({},{})]'.format(est,level,lwr,upr))\n",
    "    if str_format == None :\n",
    "        return value_dict\n"
   ]
  },
  {
   "cell_type": "markdown",
   "metadata": {},
   "source": [
    "* ii) The Clopper-Pearson interval for a population proportion can be expressed using quantiles from Beta distributions"
   ]
  },
  {
   "cell_type": "code",
   "execution_count": 22,
   "metadata": {},
   "outputs": [],
   "source": [
    "import numpy as np\n",
    "from scipy.stats import beta\n",
    "\n",
    "def clopper_pearson(array, level , str_format = 1):\n",
    "    \"\"\"\n",
    "Uses the Clopper Pearson approximation and finds the point \n",
    "estimates and confidence intervals\n",
    "\n",
    "Parameters\n",
    "----------\n",
    "array : Array of 0's and 1's\n",
    "Z : confidence level\n",
    "str_format : \n",
    "Type 1 for string formatted, Type None for the dictionary to return\n",
    "\n",
    "\n",
    " Returns\n",
    " -------\n",
    " Point estimate and confidence intervals\n",
    " \"\"\"    \n",
    "    #define x and n\n",
    "    x = sum(array)\n",
    "    n = len(array)\n",
    "    \n",
    "    #alpha over 2\n",
    "    \n",
    "    alpha2 = (1 - level)/ 2\n",
    "    \n",
    "\n",
    "    #estimates \n",
    "    est_clop = round(x/n,3)\n",
    "    \n",
    "    level_clop = round(level,3)\n",
    "    \n",
    "    lwr_clop = round(beta.ppf(alpha2, x, n - x + 1),3)\n",
    "\n",
    "    upr_clop = round(beta.ppf(1 - alpha2, x + 1, n - x),3)\n",
    "    \n",
    "    #into dictionary\n",
    "    clop_dict = {\n",
    "          'est': est_clop,\n",
    "          'level':level_clop,\n",
    "          'lwr': lwr_clop,\n",
    "          'upr': upr_clop \n",
    "    }\n",
    "    \n",
    "    # string output\n",
    "    if str_format == 1:\n",
    "        print('{}[{}%CI:({},{})]'.format(est_clop,level_clop,lwr_clop,upr_clop))\n",
    "    if str_format == None :\n",
    "        return clop_dict\n",
    "\n",
    "\n",
    "    "
   ]
  },
  {
   "cell_type": "markdown",
   "metadata": {},
   "source": [
    "* iii) The Jeffrey’s interval is a Bayesian credible interval with good frequentist properties."
   ]
  },
  {
   "cell_type": "code",
   "execution_count": 23,
   "metadata": {},
   "outputs": [],
   "source": [
    "def jeffrey(array, level , str_format = 1):\n",
    "    \"\"\"\n",
    "Uses Jeffrey's approximation and finds the point \n",
    "estimates and confidence intervals\n",
    "\n",
    "Parameters\n",
    "----------\n",
    "array : Array of 0's and 1's\n",
    "Z : confidence level\n",
    "str_format : \n",
    "Type 1 for string formatted, Type None for the dictionary to return\n",
    "\n",
    "\n",
    " Returns\n",
    " -------\n",
    " Point estimate and confidence intervals\n",
    " \"\"\" \n",
    "    #define x and n\n",
    "    x = sum(array)\n",
    "    n = len(array)\n",
    "    \n",
    "    #alpha over 2\n",
    "    \n",
    "    alpha2 = (1 - level)/ 2\n",
    "    \n",
    "\n",
    "    #estimates \n",
    "    est_jeff = round(x/n,3)\n",
    "    \n",
    "    level_jeff = round(level,3)\n",
    "    \n",
    "    lwr_jeff = round(beta.ppf(alpha2, x + 0.5, n - x + 0.5),3)\n",
    "\n",
    "    upr_jeff = round(beta.ppf(1 - alpha2, x + 0.5, n - x + 0.5),3)\n",
    "    \n",
    "    #into dictionary\n",
    "    jeff_dict = {\n",
    "          'est': est_jeff,\n",
    "          'level':level_jeff,\n",
    "          'lwr': lwr_jeff,\n",
    "          'upr': upr_jeff \n",
    "    }\n",
    "    \n",
    "    # string output\n",
    "    if str_format == 1:\n",
    "        print('{}[{}%CI:({},{})]'.format(est_jeff,level_jeff,lwr_jeff,upr_jeff))\n",
    "    if str_format == None :\n",
    "        return jeff_dict\n"
   ]
  },
  {
   "cell_type": "markdown",
   "metadata": {},
   "source": [
    "* iv) Finally, the Agresti-Coull interval arises from a notion “add 2 failures and 2 successes” as a means of regularization"
   ]
  },
  {
   "cell_type": "code",
   "execution_count": 24,
   "metadata": {},
   "outputs": [],
   "source": [
    "def ac(array, level , str_format = 1):\n",
    "    \"\"\"\n",
    "Uses Agresti-Coull approximation and finds the point \n",
    "estimates and confidence intervals\n",
    "\n",
    "Parameters\n",
    "----------\n",
    "array : Array of 0's and 1's\n",
    "Z : confidence level\n",
    "str_format : \n",
    "Type 1 for string formatted, Type None for the dictionary to return\n",
    "\n",
    "\n",
    " Returns\n",
    " -------\n",
    " Point estimate and confidence intervals\n",
    " \"\"\" \n",
    "    z = stats.norm.ppf(level)\n",
    "    \n",
    "    n = len(array)\n",
    "    x = sum(array) \n",
    "    \n",
    "    #define n tilde\n",
    "    n_tilde = n + z**2\n",
    "    \n",
    "    #define p_tilde and the standard error\n",
    "    p_tilde = (x + z**2)/n_tilde\n",
    "    \n",
    "    se_ac = np.sqrt(p_tilde * (1-p_tilde) / n)\n",
    "\n",
    "    #round estimates \n",
    "    \n",
    "    lwr_ac,upr_ac = round(p_tilde - z * se_ac,3),round(p_tilde + z * se_ac,3)\n",
    "\n",
    "    level_ac = round(z,3)\n",
    "    \n",
    "    p_tilde = round(p_tilde,3)\n",
    "    \n",
    "    se_ac = round(se_ac,3)\n",
    "    \n",
    "    \n",
    "    #into dictionary\n",
    "    ac_dict = {\n",
    "          'est': p_tilde,\n",
    "          'level':level_ac,\n",
    "          'lwr': lwr_ac,\n",
    "          'upr': upr_ac \n",
    "    }\n",
    "    \n",
    "    # string output\n",
    "    if str_format == 1:\n",
    "        print('{}[{}%CI:({},{})]'.format(p_tilde,level_ac,lwr_ac,upr_ac))\n",
    "    if str_format == None :\n",
    "        return ac_dict\n"
   ]
  },
  {
   "cell_type": "markdown",
   "metadata": {},
   "source": [
    "In this question you will write a function to return point and interval estimates based on several of these methods. Your function should have a parameter method that controls the method used. Include functionality for each of the following methods."
   ]
  },
  {
   "cell_type": "code",
   "execution_count": 25,
   "metadata": {},
   "outputs": [],
   "source": [
    "def estimates(array, level , str_format = 1, method = normal_approx):\n",
    "    \"\"\"\n",
    "Creates estimates of point estimate and confidence intervals\n",
    "based on the array, confidence levels, string format, and \n",
    "the method to use \n",
    "\n",
    "Parameters\n",
    "----------\n",
    "array : Array of 0's and 1's\n",
    "Z : confidence level\n",
    "str_format : \n",
    "    Type 1 for string formatted, Type None for the \n",
    "    dictionary to return\n",
    "Method:\n",
    "The approximation method used\n",
    "\n",
    "\n",
    " Returns\n",
    " -------\n",
    " Point estimate and confidence intervals\n",
    " \"\"\"     \n",
    "\n",
    "    return method(array, level, str_format)\n",
    "\n",
    "\n"
   ]
  },
  {
   "cell_type": "markdown",
   "metadata": {},
   "source": [
    "c. Create a 1d Numpy array with 42 ones and 48 zeros. Construct a nicely formatted table comparing 90, 95, and 99% confidence intervals using each of the methods above (including part a) on this data. Choose the number of decimals to display carefully to emphasize differences. For each confidence level, which method produces the interval with the smallest width?"
   ]
  },
  {
   "cell_type": "code",
   "execution_count": 26,
   "metadata": {},
   "outputs": [],
   "source": [
    "example=np.array([0] * 48 + ([1] * 42))"
   ]
  },
  {
   "cell_type": "code",
   "execution_count": 27,
   "metadata": {},
   "outputs": [],
   "source": [
    "#create lists for intervals\n",
    "list90 = []\n",
    "list95 = []\n",
    "list99 = []\n",
    "\n",
    "#list of the functions to iterate through\n",
    "func_list = [normal_approx,normal_binom,clopper_pearson, jeffrey, ac]\n",
    "\n",
    "#add to the lsits\n",
    "for i in range(len(func_list)):\n",
    "    valuedict90 = estimates(example,0.90, None ,func_list[i])\n",
    "    list90.append([valuedict90.get(\"lwr\"),valuedict90.get(\"upr\"),\n",
    "                 round(valuedict90.get(\"upr\")-valuedict90.get(\"lwr\"),3)])\n",
    "    \n",
    "    valuedict95 = estimates(example,0.95, None ,func_list[i])\n",
    "    list95.append([valuedict95.get(\"lwr\"),valuedict95.get(\"upr\"),\n",
    "                 round(valuedict95.get(\"upr\")-valuedict95.get(\"lwr\"),3)])\n",
    "    \n",
    "    valuedict99 = estimates(example,0.99, None ,func_list[i])\n",
    "    list99.append([valuedict99.get(\"lwr\"),valuedict99.get(\"upr\"),\n",
    "                 round(valuedict99.get(\"upr\")-valuedict99.get(\"lwr\"),3)])\n",
    "   \n"
   ]
  },
  {
   "cell_type": "code",
   "execution_count": 28,
   "metadata": {},
   "outputs": [
    {
     "data": {
      "text/html": [
       "<div>\n",
       "<style scoped>\n",
       "    .dataframe tbody tr th:only-of-type {\n",
       "        vertical-align: middle;\n",
       "    }\n",
       "\n",
       "    .dataframe tbody tr th {\n",
       "        vertical-align: top;\n",
       "    }\n",
       "\n",
       "    .dataframe thead th {\n",
       "        text-align: right;\n",
       "    }\n",
       "</style>\n",
       "<table border=\"1\" class=\"dataframe\">\n",
       "  <thead>\n",
       "    <tr style=\"text-align: right;\">\n",
       "      <th></th>\n",
       "      <th>Function</th>\n",
       "      <th>90%</th>\n",
       "      <th>95%</th>\n",
       "      <th>99%</th>\n",
       "    </tr>\n",
       "  </thead>\n",
       "  <tbody>\n",
       "    <tr>\n",
       "      <th>0</th>\n",
       "      <td>Normal_approx</td>\n",
       "      <td>[0.41, 0.53, 0.12]</td>\n",
       "      <td>[0.39, 0.55, 0.16]</td>\n",
       "      <td>[0.35, 0.59, 0.24]</td>\n",
       "    </tr>\n",
       "    <tr>\n",
       "      <th>1</th>\n",
       "      <td>Normal_binom</td>\n",
       "      <td>[0.399, 0.534, 0.135]</td>\n",
       "      <td>[0.38, 0.553, 0.173]</td>\n",
       "      <td>[0.344, 0.589, 0.245]</td>\n",
       "    </tr>\n",
       "    <tr>\n",
       "      <th>2</th>\n",
       "      <td>Clopper Pearson</td>\n",
       "      <td>[0.376, 0.559, 0.183]</td>\n",
       "      <td>[0.361, 0.575, 0.214]</td>\n",
       "      <td>[0.331, 0.606, 0.275]</td>\n",
       "    </tr>\n",
       "    <tr>\n",
       "      <th>3</th>\n",
       "      <td>Jeffrey's</td>\n",
       "      <td>[0.382, 0.553, 0.171]</td>\n",
       "      <td>[0.366, 0.569, 0.203]</td>\n",
       "      <td>[0.336, 0.601, 0.265]</td>\n",
       "    </tr>\n",
       "    <tr>\n",
       "      <th>4</th>\n",
       "      <td>Agresti-Coull</td>\n",
       "      <td>[0.409, 0.544, 0.135]</td>\n",
       "      <td>[0.396, 0.569, 0.173]</td>\n",
       "      <td>[0.374, 0.62, 0.246]</td>\n",
       "    </tr>\n",
       "  </tbody>\n",
       "</table>\n",
       "</div>"
      ],
      "text/plain": [
       "          Function                    90%                    95%  \\\n",
       "0    Normal_approx     [0.41, 0.53, 0.12]     [0.39, 0.55, 0.16]   \n",
       "1     Normal_binom  [0.399, 0.534, 0.135]   [0.38, 0.553, 0.173]   \n",
       "2  Clopper Pearson  [0.376, 0.559, 0.183]  [0.361, 0.575, 0.214]   \n",
       "3        Jeffrey's  [0.382, 0.553, 0.171]  [0.366, 0.569, 0.203]   \n",
       "4    Agresti-Coull  [0.409, 0.544, 0.135]  [0.396, 0.569, 0.173]   \n",
       "\n",
       "                     99%  \n",
       "0     [0.35, 0.59, 0.24]  \n",
       "1  [0.344, 0.589, 0.245]  \n",
       "2  [0.331, 0.606, 0.275]  \n",
       "3  [0.336, 0.601, 0.265]  \n",
       "4   [0.374, 0.62, 0.246]  "
      ]
     },
     "execution_count": 28,
     "metadata": {},
     "output_type": "execute_result"
    }
   ],
   "source": [
    "#create dataframe\n",
    "intervals = pd.DataFrame()\n",
    "intervals['Function'] = ['Normal_approx','Normal_binom',\n",
    "     'Clopper Pearson', \"Jeffrey's\", 'Agresti-Coull']\n",
    "intervals['90%'] = list90\n",
    "intervals['95%'] = list95\n",
    "intervals['99%'] = list99\n",
    "\n",
    "intervals"
   ]
  },
  {
   "cell_type": "code",
   "execution_count": 35,
   "metadata": {},
   "outputs": [
    {
     "data": {
      "text/plain": [
       "0.366"
      ]
     },
     "execution_count": 35,
     "metadata": {},
     "output_type": "execute_result"
    }
   ],
   "source": [
    "x = jeffrey(ex_array,0.95, str_format = None)\n",
    "x['lwr']"
   ]
  },
  {
   "cell_type": "code",
   "execution_count": 30,
   "metadata": {},
   "outputs": [],
   "source": [
    "import numpy as np"
   ]
  },
  {
   "cell_type": "code",
   "execution_count": 31,
   "metadata": {},
   "outputs": [],
   "source": [
    "ex_array = np.array([0] * 48 + ([1] * 42))"
   ]
  },
  {
   "cell_type": "markdown",
   "metadata": {},
   "source": [
    "* For the 90% confidence interval, the normal approximation produces the smallest width.\n",
    "* For the 95% confidence interval, the normal approximation produces the smallest width.\n",
    "* For the 99% confidence interval, the normal approimation produces the smallest width."
   ]
  }
 ],
 "metadata": {
  "kernelspec": {
   "display_name": "Python 3",
   "language": "python",
   "name": "python3"
  },
  "language_info": {
   "codemirror_mode": {
    "name": "ipython",
    "version": 3
   },
   "file_extension": ".py",
   "mimetype": "text/x-python",
   "name": "python",
   "nbconvert_exporter": "python",
   "pygments_lexer": "ipython3",
   "version": "3.9.0"
  }
 },
 "nbformat": 4,
 "nbformat_minor": 4
}
